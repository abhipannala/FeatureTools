{
 "cells": [
  {
   "cell_type": "code",
   "execution_count": 1,
   "metadata": {
    "ExecuteTime": {
     "end_time": "2019-10-17T19:27:10.970973Z",
     "start_time": "2019-10-17T19:27:06.338362Z"
    }
   },
   "outputs": [],
   "source": [
    "import pandas as pd\n",
    "pd.set_option('display.max_rows', 500)\n",
    "pd.set_option('display.max_columns', 500)\n",
    "pd.set_option('display.width', 1000)\n",
    "import numpy as np\n",
    "\n",
    "import matplotlib.pyplot as plt\n",
    "%matplotlib inline\n",
    "\n",
    "#Feature tools for \"Deep Feature Synthesis\"\n",
    "import featuretools as ft\n",
    "\n",
    "import pyodbc"
   ]
  },
  {
   "cell_type": "markdown",
   "metadata": {},
   "source": [
    "## Representing Data with EntitySets\n",
    "An `EntitySet` is a collection of entities and the relationships between them. They are useful for preparing raw, structured datasets for feature engineering. While many functions in Featuretools take `entities` and `relationships` as separate arguments, it is recommended to create an `EntitySet`, so you can more easily manipulate your data as needed."
   ]
  },
  {
   "cell_type": "markdown",
   "metadata": {},
   "source": [
    "### The Raw Data\n",
    "Below we have a two tables of data (represented as Pandas DataFrames) related to customer transactions. The first is a merge of transactions, sessions, and customers so that the result looks like something you might see in a log file:"
   ]
  },
  {
   "cell_type": "code",
   "execution_count": 2,
   "metadata": {
    "ExecuteTime": {
     "end_time": "2019-10-17T19:27:11.031858Z",
     "start_time": "2019-10-17T19:27:10.972860Z"
    }
   },
   "outputs": [],
   "source": [
    "data = ft.demo.load_mock_customer()"
   ]
  },
  {
   "cell_type": "code",
   "execution_count": 3,
   "metadata": {
    "ExecuteTime": {
     "end_time": "2019-10-17T19:27:11.057857Z",
     "start_time": "2019-10-17T19:27:11.035857Z"
    }
   },
   "outputs": [],
   "source": [
    "transactions_df = data[\"transactions\"].merge(data[\"sessions\"]).merge(data[\"customers\"])"
   ]
  },
  {
   "cell_type": "code",
   "execution_count": 4,
   "metadata": {
    "ExecuteTime": {
     "end_time": "2019-10-17T19:27:11.090856Z",
     "start_time": "2019-10-17T19:27:11.060857Z"
    }
   },
   "outputs": [
    {
     "data": {
      "text/html": [
       "<div>\n",
       "<style scoped>\n",
       "    .dataframe tbody tr th:only-of-type {\n",
       "        vertical-align: middle;\n",
       "    }\n",
       "\n",
       "    .dataframe tbody tr th {\n",
       "        vertical-align: top;\n",
       "    }\n",
       "\n",
       "    .dataframe thead th {\n",
       "        text-align: right;\n",
       "    }\n",
       "</style>\n",
       "<table border=\"1\" class=\"dataframe\">\n",
       "  <thead>\n",
       "    <tr style=\"text-align: right;\">\n",
       "      <th></th>\n",
       "      <th>transaction_id</th>\n",
       "      <th>session_id</th>\n",
       "      <th>transaction_time</th>\n",
       "      <th>product_id</th>\n",
       "      <th>amount</th>\n",
       "      <th>customer_id</th>\n",
       "      <th>device</th>\n",
       "      <th>session_start</th>\n",
       "      <th>zip_code</th>\n",
       "      <th>join_date</th>\n",
       "      <th>date_of_birth</th>\n",
       "    </tr>\n",
       "  </thead>\n",
       "  <tbody>\n",
       "    <tr>\n",
       "      <td>264</td>\n",
       "      <td>380</td>\n",
       "      <td>21</td>\n",
       "      <td>2014-01-01 05:14:10</td>\n",
       "      <td>5</td>\n",
       "      <td>57.09</td>\n",
       "      <td>4</td>\n",
       "      <td>desktop</td>\n",
       "      <td>2014-01-01 05:02:15</td>\n",
       "      <td>60091</td>\n",
       "      <td>2011-04-08 20:08:14</td>\n",
       "      <td>2006-08-15</td>\n",
       "    </tr>\n",
       "    <tr>\n",
       "      <td>19</td>\n",
       "      <td>244</td>\n",
       "      <td>10</td>\n",
       "      <td>2014-01-01 02:34:55</td>\n",
       "      <td>2</td>\n",
       "      <td>116.95</td>\n",
       "      <td>2</td>\n",
       "      <td>tablet</td>\n",
       "      <td>2014-01-01 02:31:40</td>\n",
       "      <td>13244</td>\n",
       "      <td>2012-04-15 23:31:04</td>\n",
       "      <td>1986-08-18</td>\n",
       "    </tr>\n",
       "    <tr>\n",
       "      <td>314</td>\n",
       "      <td>299</td>\n",
       "      <td>6</td>\n",
       "      <td>2014-01-01 01:32:05</td>\n",
       "      <td>4</td>\n",
       "      <td>64.99</td>\n",
       "      <td>1</td>\n",
       "      <td>tablet</td>\n",
       "      <td>2014-01-01 01:23:25</td>\n",
       "      <td>60091</td>\n",
       "      <td>2011-04-17 10:48:33</td>\n",
       "      <td>1994-07-18</td>\n",
       "    </tr>\n",
       "    <tr>\n",
       "      <td>290</td>\n",
       "      <td>78</td>\n",
       "      <td>4</td>\n",
       "      <td>2014-01-01 00:54:10</td>\n",
       "      <td>1</td>\n",
       "      <td>37.50</td>\n",
       "      <td>1</td>\n",
       "      <td>mobile</td>\n",
       "      <td>2014-01-01 00:44:25</td>\n",
       "      <td>60091</td>\n",
       "      <td>2011-04-17 10:48:33</td>\n",
       "      <td>1994-07-18</td>\n",
       "    </tr>\n",
       "    <tr>\n",
       "      <td>379</td>\n",
       "      <td>457</td>\n",
       "      <td>27</td>\n",
       "      <td>2014-01-01 06:37:35</td>\n",
       "      <td>1</td>\n",
       "      <td>19.16</td>\n",
       "      <td>1</td>\n",
       "      <td>mobile</td>\n",
       "      <td>2014-01-01 06:34:20</td>\n",
       "      <td>60091</td>\n",
       "      <td>2011-04-17 10:48:33</td>\n",
       "      <td>1994-07-18</td>\n",
       "    </tr>\n",
       "    <tr>\n",
       "      <td>335</td>\n",
       "      <td>477</td>\n",
       "      <td>9</td>\n",
       "      <td>2014-01-01 02:30:35</td>\n",
       "      <td>3</td>\n",
       "      <td>41.70</td>\n",
       "      <td>1</td>\n",
       "      <td>desktop</td>\n",
       "      <td>2014-01-01 02:15:25</td>\n",
       "      <td>60091</td>\n",
       "      <td>2011-04-17 10:48:33</td>\n",
       "      <td>1994-07-18</td>\n",
       "    </tr>\n",
       "    <tr>\n",
       "      <td>293</td>\n",
       "      <td>103</td>\n",
       "      <td>4</td>\n",
       "      <td>2014-01-01 00:57:25</td>\n",
       "      <td>5</td>\n",
       "      <td>20.79</td>\n",
       "      <td>1</td>\n",
       "      <td>mobile</td>\n",
       "      <td>2014-01-01 00:44:25</td>\n",
       "      <td>60091</td>\n",
       "      <td>2011-04-17 10:48:33</td>\n",
       "      <td>1994-07-18</td>\n",
       "    </tr>\n",
       "    <tr>\n",
       "      <td>271</td>\n",
       "      <td>390</td>\n",
       "      <td>22</td>\n",
       "      <td>2014-01-01 05:21:45</td>\n",
       "      <td>2</td>\n",
       "      <td>54.83</td>\n",
       "      <td>4</td>\n",
       "      <td>desktop</td>\n",
       "      <td>2014-01-01 05:21:45</td>\n",
       "      <td>60091</td>\n",
       "      <td>2011-04-08 20:08:14</td>\n",
       "      <td>2006-08-15</td>\n",
       "    </tr>\n",
       "    <tr>\n",
       "      <td>404</td>\n",
       "      <td>476</td>\n",
       "      <td>29</td>\n",
       "      <td>2014-01-01 07:24:10</td>\n",
       "      <td>4</td>\n",
       "      <td>121.59</td>\n",
       "      <td>1</td>\n",
       "      <td>mobile</td>\n",
       "      <td>2014-01-01 07:10:05</td>\n",
       "      <td>60091</td>\n",
       "      <td>2011-04-17 10:48:33</td>\n",
       "      <td>1994-07-18</td>\n",
       "    </tr>\n",
       "    <tr>\n",
       "      <td>179</td>\n",
       "      <td>90</td>\n",
       "      <td>3</td>\n",
       "      <td>2014-01-01 00:35:45</td>\n",
       "      <td>1</td>\n",
       "      <td>75.73</td>\n",
       "      <td>4</td>\n",
       "      <td>mobile</td>\n",
       "      <td>2014-01-01 00:28:10</td>\n",
       "      <td>60091</td>\n",
       "      <td>2011-04-08 20:08:14</td>\n",
       "      <td>2006-08-15</td>\n",
       "    </tr>\n",
       "  </tbody>\n",
       "</table>\n",
       "</div>"
      ],
      "text/plain": [
       "     transaction_id  session_id    transaction_time product_id  amount  \\\n",
       "264             380          21 2014-01-01 05:14:10          5   57.09   \n",
       "19              244          10 2014-01-01 02:34:55          2  116.95   \n",
       "314             299           6 2014-01-01 01:32:05          4   64.99   \n",
       "290              78           4 2014-01-01 00:54:10          1   37.50   \n",
       "379             457          27 2014-01-01 06:37:35          1   19.16   \n",
       "335             477           9 2014-01-01 02:30:35          3   41.70   \n",
       "293             103           4 2014-01-01 00:57:25          5   20.79   \n",
       "271             390          22 2014-01-01 05:21:45          2   54.83   \n",
       "404             476          29 2014-01-01 07:24:10          4  121.59   \n",
       "179              90           3 2014-01-01 00:35:45          1   75.73   \n",
       "\n",
       "     customer_id   device       session_start zip_code           join_date  \\\n",
       "264            4  desktop 2014-01-01 05:02:15    60091 2011-04-08 20:08:14   \n",
       "19             2   tablet 2014-01-01 02:31:40    13244 2012-04-15 23:31:04   \n",
       "314            1   tablet 2014-01-01 01:23:25    60091 2011-04-17 10:48:33   \n",
       "290            1   mobile 2014-01-01 00:44:25    60091 2011-04-17 10:48:33   \n",
       "379            1   mobile 2014-01-01 06:34:20    60091 2011-04-17 10:48:33   \n",
       "335            1  desktop 2014-01-01 02:15:25    60091 2011-04-17 10:48:33   \n",
       "293            1   mobile 2014-01-01 00:44:25    60091 2011-04-17 10:48:33   \n",
       "271            4  desktop 2014-01-01 05:21:45    60091 2011-04-08 20:08:14   \n",
       "404            1   mobile 2014-01-01 07:10:05    60091 2011-04-17 10:48:33   \n",
       "179            4   mobile 2014-01-01 00:28:10    60091 2011-04-08 20:08:14   \n",
       "\n",
       "    date_of_birth  \n",
       "264    2006-08-15  \n",
       "19     1986-08-18  \n",
       "314    1994-07-18  \n",
       "290    1994-07-18  \n",
       "379    1994-07-18  \n",
       "335    1994-07-18  \n",
       "293    1994-07-18  \n",
       "271    2006-08-15  \n",
       "404    1994-07-18  \n",
       "179    2006-08-15  "
      ]
     },
     "execution_count": 4,
     "metadata": {},
     "output_type": "execute_result"
    }
   ],
   "source": [
    "transactions_df.sample(10)"
   ]
  },
  {
   "cell_type": "markdown",
   "metadata": {},
   "source": [
    "And the second dataframe is a list of products involved in those transactions."
   ]
  },
  {
   "cell_type": "code",
   "execution_count": 5,
   "metadata": {
    "ExecuteTime": {
     "end_time": "2019-10-17T19:27:11.099863Z",
     "start_time": "2019-10-17T19:27:11.093857Z"
    }
   },
   "outputs": [],
   "source": [
    "products_df = data[\"products\"]"
   ]
  },
  {
   "cell_type": "code",
   "execution_count": 6,
   "metadata": {
    "ExecuteTime": {
     "end_time": "2019-10-17T19:27:11.122855Z",
     "start_time": "2019-10-17T19:27:11.103860Z"
    }
   },
   "outputs": [
    {
     "data": {
      "text/html": [
       "<div>\n",
       "<style scoped>\n",
       "    .dataframe tbody tr th:only-of-type {\n",
       "        vertical-align: middle;\n",
       "    }\n",
       "\n",
       "    .dataframe tbody tr th {\n",
       "        vertical-align: top;\n",
       "    }\n",
       "\n",
       "    .dataframe thead th {\n",
       "        text-align: right;\n",
       "    }\n",
       "</style>\n",
       "<table border=\"1\" class=\"dataframe\">\n",
       "  <thead>\n",
       "    <tr style=\"text-align: right;\">\n",
       "      <th></th>\n",
       "      <th>product_id</th>\n",
       "      <th>brand</th>\n",
       "    </tr>\n",
       "  </thead>\n",
       "  <tbody>\n",
       "    <tr>\n",
       "      <td>0</td>\n",
       "      <td>1</td>\n",
       "      <td>B</td>\n",
       "    </tr>\n",
       "    <tr>\n",
       "      <td>1</td>\n",
       "      <td>2</td>\n",
       "      <td>B</td>\n",
       "    </tr>\n",
       "    <tr>\n",
       "      <td>2</td>\n",
       "      <td>3</td>\n",
       "      <td>B</td>\n",
       "    </tr>\n",
       "    <tr>\n",
       "      <td>3</td>\n",
       "      <td>4</td>\n",
       "      <td>B</td>\n",
       "    </tr>\n",
       "    <tr>\n",
       "      <td>4</td>\n",
       "      <td>5</td>\n",
       "      <td>A</td>\n",
       "    </tr>\n",
       "  </tbody>\n",
       "</table>\n",
       "</div>"
      ],
      "text/plain": [
       "  product_id brand\n",
       "0          1     B\n",
       "1          2     B\n",
       "2          3     B\n",
       "3          4     B\n",
       "4          5     A"
      ]
     },
     "execution_count": 6,
     "metadata": {},
     "output_type": "execute_result"
    }
   ],
   "source": [
    "products_df"
   ]
  },
  {
   "cell_type": "markdown",
   "metadata": {},
   "source": [
    "### Create an \"Entity Set\"\n",
    "First, we initialize an EntitySet. If you’d like to give it name, you can optionally provide an id to the constructor."
   ]
  },
  {
   "cell_type": "code",
   "execution_count": 7,
   "metadata": {
    "ExecuteTime": {
     "end_time": "2019-10-17T19:27:11.131859Z",
     "start_time": "2019-10-17T19:27:11.125857Z"
    }
   },
   "outputs": [],
   "source": [
    "es = ft.EntitySet(id=\"customer_data\")"
   ]
  },
  {
   "cell_type": "markdown",
   "metadata": {},
   "source": [
    "### Adding Entities\n",
    "To get started, we load the transactions dataframe as an entity."
   ]
  },
  {
   "cell_type": "code",
   "execution_count": 8,
   "metadata": {
    "ExecuteTime": {
     "end_time": "2019-10-17T19:27:11.161860Z",
     "start_time": "2019-10-17T19:27:11.136858Z"
    }
   },
   "outputs": [],
   "source": [
    "es = es.entity_from_dataframe(entity_id=\"transactions\",\n",
    "                                dataframe=transactions_df,\n",
    "                                index=\"transaction_id\",\n",
    "                                time_index=\"transaction_time\",\n",
    "                                variable_types={\"product_id\": ft.variable_types.Categorical,\n",
    "                                \"zip_code\": ft.variable_types.ZIPCode})"
   ]
  },
  {
   "cell_type": "code",
   "execution_count": 9,
   "metadata": {
    "ExecuteTime": {
     "end_time": "2019-10-17T19:27:11.173860Z",
     "start_time": "2019-10-17T19:27:11.166858Z"
    },
    "scrolled": true
   },
   "outputs": [
    {
     "data": {
      "text/plain": [
       "Entityset: customer_data\n",
       "  Entities:\n",
       "    transactions [Rows: 500, Columns: 11]\n",
       "  Relationships:\n",
       "    No relationships"
      ]
     },
     "execution_count": 9,
     "metadata": {},
     "output_type": "execute_result"
    }
   ],
   "source": [
    "es"
   ]
  },
  {
   "cell_type": "markdown",
   "metadata": {},
   "source": [
    "This method loads each column in the dataframe in as a variable. We can see the variables in an entity using the code below."
   ]
  },
  {
   "cell_type": "code",
   "execution_count": 10,
   "metadata": {
    "ExecuteTime": {
     "end_time": "2019-10-17T19:27:11.188856Z",
     "start_time": "2019-10-17T19:27:11.176858Z"
    }
   },
   "outputs": [
    {
     "data": {
      "text/plain": [
       "[<Variable: transaction_id (dtype = index)>,\n",
       " <Variable: session_id (dtype = numeric)>,\n",
       " <Variable: transaction_time (dtype: datetime_time_index, format: None)>,\n",
       " <Variable: amount (dtype = numeric)>,\n",
       " <Variable: customer_id (dtype = numeric)>,\n",
       " <Variable: device (dtype = categorical)>,\n",
       " <Variable: session_start (dtype: datetime, format: None)>,\n",
       " <Variable: join_date (dtype: datetime, format: None)>,\n",
       " <Variable: date_of_birth (dtype: datetime, format: None)>,\n",
       " <Variable: product_id (dtype = categorical)>,\n",
       " <Variable: zip_code (dtype = zipcode)>]"
      ]
     },
     "execution_count": 10,
     "metadata": {},
     "output_type": "execute_result"
    }
   ],
   "source": [
    "es[\"transactions\"].variables"
   ]
  },
  {
   "cell_type": "markdown",
   "metadata": {},
   "source": [
    "es.plot() visualizes the entity set and the relationships between them"
   ]
  },
  {
   "cell_type": "code",
   "execution_count": 11,
   "metadata": {
    "ExecuteTime": {
     "end_time": "2019-10-17T19:27:12.116859Z",
     "start_time": "2019-10-17T19:27:11.193860Z"
    }
   },
   "outputs": [
    {
     "data": {
      "image/svg+xml": [
       "<?xml version=\"1.0\" encoding=\"UTF-8\" standalone=\"no\"?>\r\n",
       "<!DOCTYPE svg PUBLIC \"-//W3C//DTD SVG 1.1//EN\"\r\n",
       " \"http://www.w3.org/Graphics/SVG/1.1/DTD/svg11.dtd\">\r\n",
       "<!-- Generated by graphviz version 2.38.0 (20140413.2041)\r\n",
       " -->\r\n",
       "<!-- Title: customer_data Pages: 1 -->\r\n",
       "<svg width=\"241pt\" height=\"205pt\"\r\n",
       " viewBox=\"0.00 0.00 241.00 205.00\" xmlns=\"http://www.w3.org/2000/svg\" xmlns:xlink=\"http://www.w3.org/1999/xlink\">\r\n",
       "<g id=\"graph0\" class=\"graph\" transform=\"scale(1 1) rotate(0) translate(4 201)\">\r\n",
       "<title>customer_data</title>\r\n",
       "<polygon fill=\"white\" stroke=\"none\" points=\"-4,4 -4,-201 237,-201 237,4 -4,4\"/>\r\n",
       "<!-- transactions -->\r\n",
       "<g id=\"node1\" class=\"node\"><title>transactions</title>\r\n",
       "<polygon fill=\"none\" stroke=\"black\" points=\"0,-0.5 0,-196.5 233,-196.5 233,-0.5 0,-0.5\"/>\r\n",
       "<text text-anchor=\"middle\" x=\"116.5\" y=\"-181.3\" font-family=\"Times New Roman,serif\" font-size=\"14.00\">transactions (500 rows)</text>\r\n",
       "<polyline fill=\"none\" stroke=\"black\" points=\"0,-173.5 233,-173.5 \"/>\r\n",
       "<text text-anchor=\"start\" x=\"8\" y=\"-158.3\" font-family=\"Times New Roman,serif\" font-size=\"14.00\">transaction_id : index</text>\r\n",
       "<text text-anchor=\"start\" x=\"8\" y=\"-143.3\" font-family=\"Times New Roman,serif\" font-size=\"14.00\">session_id : numeric</text>\r\n",
       "<text text-anchor=\"start\" x=\"8\" y=\"-128.3\" font-family=\"Times New Roman,serif\" font-size=\"14.00\">transaction_time : datetime_time_index</text>\r\n",
       "<text text-anchor=\"start\" x=\"8\" y=\"-113.3\" font-family=\"Times New Roman,serif\" font-size=\"14.00\">amount : numeric</text>\r\n",
       "<text text-anchor=\"start\" x=\"8\" y=\"-98.3\" font-family=\"Times New Roman,serif\" font-size=\"14.00\">customer_id : numeric</text>\r\n",
       "<text text-anchor=\"start\" x=\"8\" y=\"-83.3\" font-family=\"Times New Roman,serif\" font-size=\"14.00\">device : categorical</text>\r\n",
       "<text text-anchor=\"start\" x=\"8\" y=\"-68.3\" font-family=\"Times New Roman,serif\" font-size=\"14.00\">session_start : datetime</text>\r\n",
       "<text text-anchor=\"start\" x=\"8\" y=\"-53.3\" font-family=\"Times New Roman,serif\" font-size=\"14.00\">join_date : datetime</text>\r\n",
       "<text text-anchor=\"start\" x=\"8\" y=\"-38.3\" font-family=\"Times New Roman,serif\" font-size=\"14.00\">date_of_birth : datetime</text>\r\n",
       "<text text-anchor=\"start\" x=\"8\" y=\"-23.3\" font-family=\"Times New Roman,serif\" font-size=\"14.00\">product_id : categorical</text>\r\n",
       "<text text-anchor=\"start\" x=\"8\" y=\"-8.3\" font-family=\"Times New Roman,serif\" font-size=\"14.00\">zip_code : zipcode</text>\r\n",
       "</g>\r\n",
       "</g>\r\n",
       "</svg>\r\n"
      ],
      "text/plain": [
       "<graphviz.dot.Digraph at 0x21a09c2c908>"
      ]
     },
     "execution_count": 11,
     "metadata": {},
     "output_type": "execute_result"
    }
   ],
   "source": [
    "es.plot()"
   ]
  },
  {
   "cell_type": "markdown",
   "metadata": {},
   "source": [
    "In the call to `entity_from_dataframe`, we specified three important parameters\n",
    "\n",
    "The `index` parameter specifies the column that uniquely identifies rows in the dataframe\n",
    "\n",
    "The `time_index` parameter tells Featuretools when the data was created.\n",
    "\n",
    "The `variable_types` parameter indicates that “product_id” should be interpreted as a Categorical variable, even though it just an integer in the underlying data.\n",
    "\n",
    "Now, we can do that same thing with our products dataframe"
   ]
  },
  {
   "cell_type": "code",
   "execution_count": 12,
   "metadata": {
    "ExecuteTime": {
     "end_time": "2019-10-17T19:27:12.127854Z",
     "start_time": "2019-10-17T19:27:12.119891Z"
    }
   },
   "outputs": [],
   "source": [
    "es = es.entity_from_dataframe(entity_id=\"products\",\n",
    "                                dataframe=products_df,\n",
    "                                index=\"product_id\")"
   ]
  },
  {
   "cell_type": "code",
   "execution_count": 13,
   "metadata": {
    "ExecuteTime": {
     "end_time": "2019-10-17T19:27:12.146873Z",
     "start_time": "2019-10-17T19:27:12.132860Z"
    }
   },
   "outputs": [
    {
     "data": {
      "text/plain": [
       "Entityset: customer_data\n",
       "  Entities:\n",
       "    transactions [Rows: 500, Columns: 11]\n",
       "    products [Rows: 5, Columns: 2]\n",
       "  Relationships:\n",
       "    No relationships"
      ]
     },
     "execution_count": 13,
     "metadata": {},
     "output_type": "execute_result"
    }
   ],
   "source": [
    "es"
   ]
  },
  {
   "cell_type": "markdown",
   "metadata": {},
   "source": [
    "With two entities in our entity set, we can add a relationship between them."
   ]
  },
  {
   "cell_type": "markdown",
   "metadata": {},
   "source": [
    "### Adding a Relationship\n",
    "We want to relate these two entities by the columns called “product_id” in each entity. Each product has multiple transactions associated with it, so it is called it the parent entity, while the transactions entity is known as the child entity. When specifying relationships we list the variable in the parent entity first. Note that each `ft.Relationship` must denote a one-to-many relationship rather than a relationship which is one-to-one or many-to-many."
   ]
  },
  {
   "cell_type": "code",
   "execution_count": 14,
   "metadata": {
    "ExecuteTime": {
     "end_time": "2019-10-17T19:27:12.162874Z",
     "start_time": "2019-10-17T19:27:12.152858Z"
    }
   },
   "outputs": [],
   "source": [
    "new_relationship = ft.Relationship(es[\"products\"][\"product_id\"],\n",
    "                                    es[\"transactions\"][\"product_id\"])"
   ]
  },
  {
   "cell_type": "code",
   "execution_count": 15,
   "metadata": {
    "ExecuteTime": {
     "end_time": "2019-10-17T19:27:12.178865Z",
     "start_time": "2019-10-17T19:27:12.167858Z"
    }
   },
   "outputs": [],
   "source": [
    "es = es.add_relationship(new_relationship)"
   ]
  },
  {
   "cell_type": "markdown",
   "metadata": {},
   "source": [
    "Now, we see the relationship has been added to our entity set."
   ]
  },
  {
   "cell_type": "code",
   "execution_count": 16,
   "metadata": {
    "ExecuteTime": {
     "end_time": "2019-10-17T19:27:12.198878Z",
     "start_time": "2019-10-17T19:27:12.183875Z"
    }
   },
   "outputs": [
    {
     "data": {
      "text/plain": [
       "Entityset: customer_data\n",
       "  Entities:\n",
       "    transactions [Rows: 500, Columns: 11]\n",
       "    products [Rows: 5, Columns: 2]\n",
       "  Relationships:\n",
       "    transactions.product_id -> products.product_id"
      ]
     },
     "execution_count": 16,
     "metadata": {},
     "output_type": "execute_result"
    }
   ],
   "source": [
    "es"
   ]
  },
  {
   "cell_type": "code",
   "execution_count": 17,
   "metadata": {
    "ExecuteTime": {
     "end_time": "2019-10-17T19:27:13.089861Z",
     "start_time": "2019-10-17T19:27:12.204857Z"
    }
   },
   "outputs": [
    {
     "data": {
      "image/svg+xml": [
       "<?xml version=\"1.0\" encoding=\"UTF-8\" standalone=\"no\"?>\r\n",
       "<!DOCTYPE svg PUBLIC \"-//W3C//DTD SVG 1.1//EN\"\r\n",
       " \"http://www.w3.org/Graphics/SVG/1.1/DTD/svg11.dtd\">\r\n",
       "<!-- Generated by graphviz version 2.38.0 (20140413.2041)\r\n",
       " -->\r\n",
       "<!-- Title: customer_data Pages: 1 -->\r\n",
       "<svg width=\"241pt\" height=\"303pt\"\r\n",
       " viewBox=\"0.00 0.00 241.00 303.00\" xmlns=\"http://www.w3.org/2000/svg\" xmlns:xlink=\"http://www.w3.org/1999/xlink\">\r\n",
       "<g id=\"graph0\" class=\"graph\" transform=\"scale(1 1) rotate(0) translate(4 299)\">\r\n",
       "<title>customer_data</title>\r\n",
       "<polygon fill=\"white\" stroke=\"none\" points=\"-4,4 -4,-299 237,-299 237,4 -4,4\"/>\r\n",
       "<!-- transactions -->\r\n",
       "<g id=\"node1\" class=\"node\"><title>transactions</title>\r\n",
       "<polygon fill=\"none\" stroke=\"black\" points=\"0,-98.5 0,-294.5 233,-294.5 233,-98.5 0,-98.5\"/>\r\n",
       "<text text-anchor=\"middle\" x=\"116.5\" y=\"-279.3\" font-family=\"Times New Roman,serif\" font-size=\"14.00\">transactions (500 rows)</text>\r\n",
       "<polyline fill=\"none\" stroke=\"black\" points=\"0,-271.5 233,-271.5 \"/>\r\n",
       "<text text-anchor=\"start\" x=\"8\" y=\"-256.3\" font-family=\"Times New Roman,serif\" font-size=\"14.00\">transaction_id : index</text>\r\n",
       "<text text-anchor=\"start\" x=\"8\" y=\"-241.3\" font-family=\"Times New Roman,serif\" font-size=\"14.00\">session_id : numeric</text>\r\n",
       "<text text-anchor=\"start\" x=\"8\" y=\"-226.3\" font-family=\"Times New Roman,serif\" font-size=\"14.00\">transaction_time : datetime_time_index</text>\r\n",
       "<text text-anchor=\"start\" x=\"8\" y=\"-211.3\" font-family=\"Times New Roman,serif\" font-size=\"14.00\">amount : numeric</text>\r\n",
       "<text text-anchor=\"start\" x=\"8\" y=\"-196.3\" font-family=\"Times New Roman,serif\" font-size=\"14.00\">customer_id : numeric</text>\r\n",
       "<text text-anchor=\"start\" x=\"8\" y=\"-181.3\" font-family=\"Times New Roman,serif\" font-size=\"14.00\">device : categorical</text>\r\n",
       "<text text-anchor=\"start\" x=\"8\" y=\"-166.3\" font-family=\"Times New Roman,serif\" font-size=\"14.00\">session_start : datetime</text>\r\n",
       "<text text-anchor=\"start\" x=\"8\" y=\"-151.3\" font-family=\"Times New Roman,serif\" font-size=\"14.00\">join_date : datetime</text>\r\n",
       "<text text-anchor=\"start\" x=\"8\" y=\"-136.3\" font-family=\"Times New Roman,serif\" font-size=\"14.00\">date_of_birth : datetime</text>\r\n",
       "<text text-anchor=\"start\" x=\"8\" y=\"-121.3\" font-family=\"Times New Roman,serif\" font-size=\"14.00\">product_id : id</text>\r\n",
       "<text text-anchor=\"start\" x=\"8\" y=\"-106.3\" font-family=\"Times New Roman,serif\" font-size=\"14.00\">zip_code : zipcode</text>\r\n",
       "</g>\r\n",
       "<!-- products -->\r\n",
       "<g id=\"node2\" class=\"node\"><title>products</title>\r\n",
       "<polygon fill=\"none\" stroke=\"black\" points=\"57,-0.5 57,-61.5 176,-61.5 176,-0.5 57,-0.5\"/>\r\n",
       "<text text-anchor=\"middle\" x=\"116.5\" y=\"-46.3\" font-family=\"Times New Roman,serif\" font-size=\"14.00\">products (5 rows)</text>\r\n",
       "<polyline fill=\"none\" stroke=\"black\" points=\"57,-38.5 176,-38.5 \"/>\r\n",
       "<text text-anchor=\"start\" x=\"65\" y=\"-23.3\" font-family=\"Times New Roman,serif\" font-size=\"14.00\">product_id : index</text>\r\n",
       "<text text-anchor=\"start\" x=\"65\" y=\"-8.3\" font-family=\"Times New Roman,serif\" font-size=\"14.00\">brand : categorical</text>\r\n",
       "</g>\r\n",
       "<!-- transactions&#45;&gt;products -->\r\n",
       "<g id=\"edge1\" class=\"edge\"><title>transactions&#45;&gt;products</title>\r\n",
       "<path fill=\"none\" stroke=\"black\" d=\"M116.5,-98.3152C116.5,-98.3152 116.5,-71.6931 116.5,-71.6931\"/>\r\n",
       "<polygon fill=\"black\" stroke=\"black\" points=\"120,-71.693 116.5,-61.6931 113,-71.6931 120,-71.693\"/>\r\n",
       "<text text-anchor=\"middle\" x=\"85\" y=\"-73.8041\" font-family=\"Times New Roman,serif\" font-size=\"14.00\">product_id</text>\r\n",
       "</g>\r\n",
       "</g>\r\n",
       "</svg>\r\n"
      ],
      "text/plain": [
       "<graphviz.dot.Digraph at 0x21a09c2ca08>"
      ]
     },
     "execution_count": 17,
     "metadata": {},
     "output_type": "execute_result"
    }
   ],
   "source": [
    "es.plot()"
   ]
  },
  {
   "cell_type": "markdown",
   "metadata": {},
   "source": [
    "### Creating entity from existing table\n",
    "When working with raw data, it is common to have sufficient information to justify the creation of new entities. In order to create a new entity and relationship for sessions, we “normalize” the transaction entity."
   ]
  },
  {
   "cell_type": "code",
   "execution_count": 18,
   "metadata": {
    "ExecuteTime": {
     "end_time": "2019-10-17T19:27:13.126851Z",
     "start_time": "2019-10-17T19:27:13.092856Z"
    }
   },
   "outputs": [],
   "source": [
    "es = es.normalize_entity(base_entity_id=\"transactions\",\n",
    "                            new_entity_id=\"sessions\",\n",
    "                            index=\"session_id\",\n",
    "                            make_time_index=\"session_start\",\n",
    "                            additional_variables=[\"device\", \"customer_id\", \"zip_code\", \"session_start\", \"join_date\"])"
   ]
  },
  {
   "cell_type": "code",
   "execution_count": 19,
   "metadata": {
    "ExecuteTime": {
     "end_time": "2019-10-17T19:27:13.142856Z",
     "start_time": "2019-10-17T19:27:13.133869Z"
    }
   },
   "outputs": [
    {
     "data": {
      "text/plain": [
       "Entityset: customer_data\n",
       "  Entities:\n",
       "    transactions [Rows: 500, Columns: 6]\n",
       "    products [Rows: 5, Columns: 2]\n",
       "    sessions [Rows: 35, Columns: 6]\n",
       "  Relationships:\n",
       "    transactions.product_id -> products.product_id\n",
       "    transactions.session_id -> sessions.session_id"
      ]
     },
     "execution_count": 19,
     "metadata": {},
     "output_type": "execute_result"
    }
   ],
   "source": [
    "es"
   ]
  },
  {
   "cell_type": "code",
   "execution_count": 20,
   "metadata": {
    "ExecuteTime": {
     "end_time": "2019-10-17T19:27:14.106853Z",
     "start_time": "2019-10-17T19:27:13.147854Z"
    }
   },
   "outputs": [
    {
     "data": {
      "image/svg+xml": [
       "<?xml version=\"1.0\" encoding=\"UTF-8\" standalone=\"no\"?>\r\n",
       "<!DOCTYPE svg PUBLIC \"-//W3C//DTD SVG 1.1//EN\"\r\n",
       " \"http://www.w3.org/Graphics/SVG/1.1/DTD/svg11.dtd\">\r\n",
       "<!-- Generated by graphviz version 2.38.0 (20140413.2041)\r\n",
       " -->\r\n",
       "<!-- Title: customer_data Pages: 1 -->\r\n",
       "<svg width=\"360pt\" height=\"288pt\"\r\n",
       " viewBox=\"0.00 0.00 360.00 288.00\" xmlns=\"http://www.w3.org/2000/svg\" xmlns:xlink=\"http://www.w3.org/1999/xlink\">\r\n",
       "<g id=\"graph0\" class=\"graph\" transform=\"scale(1 1) rotate(0) translate(4 284)\">\r\n",
       "<title>customer_data</title>\r\n",
       "<polygon fill=\"white\" stroke=\"none\" points=\"-4,4 -4,-284 356,-284 356,4 -4,4\"/>\r\n",
       "<!-- transactions -->\r\n",
       "<g id=\"node1\" class=\"node\"><title>transactions</title>\r\n",
       "<polygon fill=\"none\" stroke=\"black\" points=\"35,-158.5 35,-279.5 268,-279.5 268,-158.5 35,-158.5\"/>\r\n",
       "<text text-anchor=\"middle\" x=\"151.5\" y=\"-264.3\" font-family=\"Times New Roman,serif\" font-size=\"14.00\">transactions (500 rows)</text>\r\n",
       "<polyline fill=\"none\" stroke=\"black\" points=\"35,-256.5 268,-256.5 \"/>\r\n",
       "<text text-anchor=\"start\" x=\"43\" y=\"-241.3\" font-family=\"Times New Roman,serif\" font-size=\"14.00\">transaction_id : index</text>\r\n",
       "<text text-anchor=\"start\" x=\"43\" y=\"-226.3\" font-family=\"Times New Roman,serif\" font-size=\"14.00\">session_id : id</text>\r\n",
       "<text text-anchor=\"start\" x=\"43\" y=\"-211.3\" font-family=\"Times New Roman,serif\" font-size=\"14.00\">transaction_time : datetime_time_index</text>\r\n",
       "<text text-anchor=\"start\" x=\"43\" y=\"-196.3\" font-family=\"Times New Roman,serif\" font-size=\"14.00\">amount : numeric</text>\r\n",
       "<text text-anchor=\"start\" x=\"43\" y=\"-181.3\" font-family=\"Times New Roman,serif\" font-size=\"14.00\">date_of_birth : datetime</text>\r\n",
       "<text text-anchor=\"start\" x=\"43\" y=\"-166.3\" font-family=\"Times New Roman,serif\" font-size=\"14.00\">product_id : id</text>\r\n",
       "</g>\r\n",
       "<!-- products -->\r\n",
       "<g id=\"node2\" class=\"node\"><title>products</title>\r\n",
       "<polygon fill=\"none\" stroke=\"black\" points=\"0,-30.5 0,-91.5 119,-91.5 119,-30.5 0,-30.5\"/>\r\n",
       "<text text-anchor=\"middle\" x=\"59.5\" y=\"-76.3\" font-family=\"Times New Roman,serif\" font-size=\"14.00\">products (5 rows)</text>\r\n",
       "<polyline fill=\"none\" stroke=\"black\" points=\"0,-68.5 119,-68.5 \"/>\r\n",
       "<text text-anchor=\"start\" x=\"8\" y=\"-53.3\" font-family=\"Times New Roman,serif\" font-size=\"14.00\">product_id : index</text>\r\n",
       "<text text-anchor=\"start\" x=\"8\" y=\"-38.3\" font-family=\"Times New Roman,serif\" font-size=\"14.00\">brand : categorical</text>\r\n",
       "</g>\r\n",
       "<!-- transactions&#45;&gt;products -->\r\n",
       "<g id=\"edge1\" class=\"edge\"><title>transactions&#45;&gt;products</title>\r\n",
       "<path fill=\"none\" stroke=\"black\" d=\"M77,-158.365C77,-158.365 77,-101.663 77,-101.663\"/>\r\n",
       "<polygon fill=\"black\" stroke=\"black\" points=\"80.5001,-101.663 77,-91.6631 73.5001,-101.663 80.5001,-101.663\"/>\r\n",
       "<text text-anchor=\"middle\" x=\"45.5\" y=\"-133.814\" font-family=\"Times New Roman,serif\" font-size=\"14.00\">product_id</text>\r\n",
       "</g>\r\n",
       "<!-- sessions -->\r\n",
       "<g id=\"node3\" class=\"node\"><title>sessions</title>\r\n",
       "<polygon fill=\"none\" stroke=\"black\" points=\"137,-0.5 137,-121.5 352,-121.5 352,-0.5 137,-0.5\"/>\r\n",
       "<text text-anchor=\"middle\" x=\"244.5\" y=\"-106.3\" font-family=\"Times New Roman,serif\" font-size=\"14.00\">sessions (35 rows)</text>\r\n",
       "<polyline fill=\"none\" stroke=\"black\" points=\"137,-98.5 352,-98.5 \"/>\r\n",
       "<text text-anchor=\"start\" x=\"145\" y=\"-83.3\" font-family=\"Times New Roman,serif\" font-size=\"14.00\">session_id : index</text>\r\n",
       "<text text-anchor=\"start\" x=\"145\" y=\"-68.3\" font-family=\"Times New Roman,serif\" font-size=\"14.00\">device : categorical</text>\r\n",
       "<text text-anchor=\"start\" x=\"145\" y=\"-53.3\" font-family=\"Times New Roman,serif\" font-size=\"14.00\">customer_id : numeric</text>\r\n",
       "<text text-anchor=\"start\" x=\"145\" y=\"-38.3\" font-family=\"Times New Roman,serif\" font-size=\"14.00\">zip_code : zipcode</text>\r\n",
       "<text text-anchor=\"start\" x=\"145\" y=\"-23.3\" font-family=\"Times New Roman,serif\" font-size=\"14.00\">session_start : datetime_time_index</text>\r\n",
       "<text text-anchor=\"start\" x=\"145\" y=\"-8.3\" font-family=\"Times New Roman,serif\" font-size=\"14.00\">join_date : datetime</text>\r\n",
       "</g>\r\n",
       "<!-- transactions&#45;&gt;sessions -->\r\n",
       "<g id=\"edge2\" class=\"edge\"><title>transactions&#45;&gt;sessions</title>\r\n",
       "<path fill=\"none\" stroke=\"black\" d=\"M202.5,-158.365C202.5,-158.365 202.5,-131.734 202.5,-131.734\"/>\r\n",
       "<polygon fill=\"black\" stroke=\"black\" points=\"206,-131.734 202.5,-121.734 199,-131.734 206,-131.734\"/>\r\n",
       "<text text-anchor=\"middle\" x=\"172.5\" y=\"-133.849\" font-family=\"Times New Roman,serif\" font-size=\"14.00\">session_id</text>\r\n",
       "</g>\r\n",
       "</g>\r\n",
       "</svg>\r\n"
      ],
      "text/plain": [
       "<graphviz.dot.Digraph at 0x21a09b85fc8>"
      ]
     },
     "execution_count": 20,
     "metadata": {},
     "output_type": "execute_result"
    }
   ],
   "source": [
    "es.plot()"
   ]
  },
  {
   "cell_type": "markdown",
   "metadata": {},
   "source": [
    "Looking at the output above, we see this method did two operations\n",
    "\n",
    "1. It created a new entity called “sessions” based on the “session_id” variable in “transactions”\n",
    "2. It added a relationship connecting “transactions” and “sessions”.\n",
    "\n",
    "If we look at the variables in transactions and the new sessions entity, we see two more operations that were performed automatically."
   ]
  },
  {
   "cell_type": "code",
   "execution_count": 21,
   "metadata": {
    "ExecuteTime": {
     "end_time": "2019-10-17T19:27:14.118860Z",
     "start_time": "2019-10-17T19:27:14.110856Z"
    }
   },
   "outputs": [
    {
     "data": {
      "text/plain": [
       "[<Variable: transaction_id (dtype = index)>,\n",
       " <Variable: session_id (dtype = id)>,\n",
       " <Variable: transaction_time (dtype: datetime_time_index, format: None)>,\n",
       " <Variable: amount (dtype = numeric)>,\n",
       " <Variable: date_of_birth (dtype: datetime, format: None)>,\n",
       " <Variable: product_id (dtype = id)>]"
      ]
     },
     "execution_count": 21,
     "metadata": {},
     "output_type": "execute_result"
    }
   ],
   "source": [
    "es[\"transactions\"].variables"
   ]
  },
  {
   "cell_type": "code",
   "execution_count": 22,
   "metadata": {
    "ExecuteTime": {
     "end_time": "2019-10-17T19:27:14.135852Z",
     "start_time": "2019-10-17T19:27:14.122853Z"
    }
   },
   "outputs": [
    {
     "data": {
      "text/plain": [
       "[<Variable: session_id (dtype = index)>,\n",
       " <Variable: device (dtype = categorical)>,\n",
       " <Variable: customer_id (dtype = numeric)>,\n",
       " <Variable: zip_code (dtype = zipcode)>,\n",
       " <Variable: session_start (dtype: datetime_time_index, format: None)>,\n",
       " <Variable: join_date (dtype: datetime, format: None)>]"
      ]
     },
     "execution_count": 22,
     "metadata": {},
     "output_type": "execute_result"
    }
   ],
   "source": [
    "es[\"sessions\"].variables"
   ]
  },
  {
   "cell_type": "markdown",
   "metadata": {},
   "source": [
    "1. It removed “device”, “customer_id”, “zip_code”, “session_start” and “join_date” from “transactions” and created a new variables in the sessions entity. This reduces redundant information as the those properties of a session don’t change between transactions.\n",
    "\n",
    "2. It marked “session_start” as a time index in the new sessions entity to indicate the beginning of a session. By default, unless it’s explicitly set to another variable, `normalize_entity` would have made a “first_transactions_time” in this entity. If we don’t want this variable to be created, we can set `make_time_index=False`.\n",
    "\n",
    "If we look at the dataframes, can see what the `normalize_entity` did to the actual data."
   ]
  },
  {
   "cell_type": "code",
   "execution_count": 23,
   "metadata": {
    "ExecuteTime": {
     "end_time": "2019-10-17T19:28:24.522615Z",
     "start_time": "2019-10-17T19:28:24.506618Z"
    }
   },
   "outputs": [
    {
     "data": {
      "text/html": [
       "<div>\n",
       "<style scoped>\n",
       "    .dataframe tbody tr th:only-of-type {\n",
       "        vertical-align: middle;\n",
       "    }\n",
       "\n",
       "    .dataframe tbody tr th {\n",
       "        vertical-align: top;\n",
       "    }\n",
       "\n",
       "    .dataframe thead th {\n",
       "        text-align: right;\n",
       "    }\n",
       "</style>\n",
       "<table border=\"1\" class=\"dataframe\">\n",
       "  <thead>\n",
       "    <tr style=\"text-align: right;\">\n",
       "      <th></th>\n",
       "      <th>session_id</th>\n",
       "      <th>device</th>\n",
       "      <th>customer_id</th>\n",
       "      <th>zip_code</th>\n",
       "      <th>session_start</th>\n",
       "      <th>join_date</th>\n",
       "    </tr>\n",
       "  </thead>\n",
       "  <tbody>\n",
       "    <tr>\n",
       "      <td>1</td>\n",
       "      <td>1</td>\n",
       "      <td>desktop</td>\n",
       "      <td>2</td>\n",
       "      <td>13244</td>\n",
       "      <td>2014-01-01 00:00:00</td>\n",
       "      <td>2012-04-15 23:31:04</td>\n",
       "    </tr>\n",
       "    <tr>\n",
       "      <td>2</td>\n",
       "      <td>2</td>\n",
       "      <td>mobile</td>\n",
       "      <td>5</td>\n",
       "      <td>60091</td>\n",
       "      <td>2014-01-01 00:17:20</td>\n",
       "      <td>2010-07-17 05:27:50</td>\n",
       "    </tr>\n",
       "    <tr>\n",
       "      <td>3</td>\n",
       "      <td>3</td>\n",
       "      <td>mobile</td>\n",
       "      <td>4</td>\n",
       "      <td>60091</td>\n",
       "      <td>2014-01-01 00:28:10</td>\n",
       "      <td>2011-04-08 20:08:14</td>\n",
       "    </tr>\n",
       "    <tr>\n",
       "      <td>4</td>\n",
       "      <td>4</td>\n",
       "      <td>mobile</td>\n",
       "      <td>1</td>\n",
       "      <td>60091</td>\n",
       "      <td>2014-01-01 00:44:25</td>\n",
       "      <td>2011-04-17 10:48:33</td>\n",
       "    </tr>\n",
       "    <tr>\n",
       "      <td>5</td>\n",
       "      <td>5</td>\n",
       "      <td>mobile</td>\n",
       "      <td>4</td>\n",
       "      <td>60091</td>\n",
       "      <td>2014-01-01 01:11:30</td>\n",
       "      <td>2011-04-08 20:08:14</td>\n",
       "    </tr>\n",
       "  </tbody>\n",
       "</table>\n",
       "</div>"
      ],
      "text/plain": [
       "   session_id   device  customer_id zip_code       session_start  \\\n",
       "1           1  desktop            2    13244 2014-01-01 00:00:00   \n",
       "2           2   mobile            5    60091 2014-01-01 00:17:20   \n",
       "3           3   mobile            4    60091 2014-01-01 00:28:10   \n",
       "4           4   mobile            1    60091 2014-01-01 00:44:25   \n",
       "5           5   mobile            4    60091 2014-01-01 01:11:30   \n",
       "\n",
       "            join_date  \n",
       "1 2012-04-15 23:31:04  \n",
       "2 2010-07-17 05:27:50  \n",
       "3 2011-04-08 20:08:14  \n",
       "4 2011-04-17 10:48:33  \n",
       "5 2011-04-08 20:08:14  "
      ]
     },
     "execution_count": 23,
     "metadata": {},
     "output_type": "execute_result"
    }
   ],
   "source": [
    "es[\"sessions\"].df.head(5)"
   ]
  },
  {
   "cell_type": "code",
   "execution_count": 24,
   "metadata": {
    "ExecuteTime": {
     "end_time": "2019-10-17T19:28:24.642616Z",
     "start_time": "2019-10-17T19:28:24.624650Z"
    }
   },
   "outputs": [
    {
     "data": {
      "text/html": [
       "<div>\n",
       "<style scoped>\n",
       "    .dataframe tbody tr th:only-of-type {\n",
       "        vertical-align: middle;\n",
       "    }\n",
       "\n",
       "    .dataframe tbody tr th {\n",
       "        vertical-align: top;\n",
       "    }\n",
       "\n",
       "    .dataframe thead th {\n",
       "        text-align: right;\n",
       "    }\n",
       "</style>\n",
       "<table border=\"1\" class=\"dataframe\">\n",
       "  <thead>\n",
       "    <tr style=\"text-align: right;\">\n",
       "      <th></th>\n",
       "      <th>transaction_id</th>\n",
       "      <th>session_id</th>\n",
       "      <th>transaction_time</th>\n",
       "      <th>amount</th>\n",
       "      <th>date_of_birth</th>\n",
       "      <th>product_id</th>\n",
       "    </tr>\n",
       "  </thead>\n",
       "  <tbody>\n",
       "    <tr>\n",
       "      <td>298</td>\n",
       "      <td>298</td>\n",
       "      <td>1</td>\n",
       "      <td>2014-01-01 00:00:00</td>\n",
       "      <td>127.64</td>\n",
       "      <td>1986-08-18</td>\n",
       "      <td>5</td>\n",
       "    </tr>\n",
       "    <tr>\n",
       "      <td>2</td>\n",
       "      <td>2</td>\n",
       "      <td>1</td>\n",
       "      <td>2014-01-01 00:01:05</td>\n",
       "      <td>109.48</td>\n",
       "      <td>1986-08-18</td>\n",
       "      <td>2</td>\n",
       "    </tr>\n",
       "    <tr>\n",
       "      <td>308</td>\n",
       "      <td>308</td>\n",
       "      <td>1</td>\n",
       "      <td>2014-01-01 00:02:10</td>\n",
       "      <td>95.06</td>\n",
       "      <td>1986-08-18</td>\n",
       "      <td>3</td>\n",
       "    </tr>\n",
       "    <tr>\n",
       "      <td>116</td>\n",
       "      <td>116</td>\n",
       "      <td>1</td>\n",
       "      <td>2014-01-01 00:03:15</td>\n",
       "      <td>78.92</td>\n",
       "      <td>1986-08-18</td>\n",
       "      <td>4</td>\n",
       "    </tr>\n",
       "    <tr>\n",
       "      <td>371</td>\n",
       "      <td>371</td>\n",
       "      <td>1</td>\n",
       "      <td>2014-01-01 00:04:20</td>\n",
       "      <td>31.54</td>\n",
       "      <td>1986-08-18</td>\n",
       "      <td>3</td>\n",
       "    </tr>\n",
       "  </tbody>\n",
       "</table>\n",
       "</div>"
      ],
      "text/plain": [
       "     transaction_id  session_id    transaction_time  amount date_of_birth  \\\n",
       "298             298           1 2014-01-01 00:00:00  127.64    1986-08-18   \n",
       "2                 2           1 2014-01-01 00:01:05  109.48    1986-08-18   \n",
       "308             308           1 2014-01-01 00:02:10   95.06    1986-08-18   \n",
       "116             116           1 2014-01-01 00:03:15   78.92    1986-08-18   \n",
       "371             371           1 2014-01-01 00:04:20   31.54    1986-08-18   \n",
       "\n",
       "    product_id  \n",
       "298          5  \n",
       "2            2  \n",
       "308          3  \n",
       "116          4  \n",
       "371          3  "
      ]
     },
     "execution_count": 24,
     "metadata": {},
     "output_type": "execute_result"
    }
   ],
   "source": [
    "es[\"transactions\"].df.head(5)"
   ]
  },
  {
   "cell_type": "markdown",
   "metadata": {},
   "source": [
    "To finish preparing this dataset, create a “customers” entity using the same method call."
   ]
  },
  {
   "cell_type": "code",
   "execution_count": 25,
   "metadata": {
    "ExecuteTime": {
     "end_time": "2019-10-17T19:29:53.815065Z",
     "start_time": "2019-10-17T19:29:53.793061Z"
    }
   },
   "outputs": [],
   "source": [
    "es = es.normalize_entity(base_entity_id=\"sessions\",\n",
    "                            new_entity_id=\"customers\",\n",
    "                            index=\"customer_id\",\n",
    "                            make_time_index=\"join_date\",\n",
    "                            additional_variables=[\"zip_code\", \"join_date\"])"
   ]
  },
  {
   "cell_type": "markdown",
   "metadata": {},
   "source": [
    "### Using the EntitySet\n",
    "Finally, we are ready to use this EntitySet with any functionality within Featuretools. For example, let’s build a feature matrix for each product in our dataset."
   ]
  },
  {
   "cell_type": "code",
   "execution_count": 29,
   "metadata": {
    "ExecuteTime": {
     "end_time": "2019-10-17T19:32:22.605039Z",
     "start_time": "2019-10-17T19:32:21.674045Z"
    }
   },
   "outputs": [
    {
     "data": {
      "image/svg+xml": [
       "<?xml version=\"1.0\" encoding=\"UTF-8\" standalone=\"no\"?>\r\n",
       "<!DOCTYPE svg PUBLIC \"-//W3C//DTD SVG 1.1//EN\"\r\n",
       " \"http://www.w3.org/Graphics/SVG/1.1/DTD/svg11.dtd\">\r\n",
       "<!-- Generated by graphviz version 2.38.0 (20140413.2041)\r\n",
       " -->\r\n",
       "<!-- Title: customer_data Pages: 1 -->\r\n",
       "<svg width=\"360pt\" height=\"371pt\"\r\n",
       " viewBox=\"0.00 0.00 360.00 371.00\" xmlns=\"http://www.w3.org/2000/svg\" xmlns:xlink=\"http://www.w3.org/1999/xlink\">\r\n",
       "<g id=\"graph0\" class=\"graph\" transform=\"scale(1 1) rotate(0) translate(4 367)\">\r\n",
       "<title>customer_data</title>\r\n",
       "<polygon fill=\"white\" stroke=\"none\" points=\"-4,4 -4,-367 356,-367 356,4 -4,4\"/>\r\n",
       "<!-- transactions -->\r\n",
       "<g id=\"node1\" class=\"node\"><title>transactions</title>\r\n",
       "<polygon fill=\"none\" stroke=\"black\" points=\"35,-241.5 35,-362.5 268,-362.5 268,-241.5 35,-241.5\"/>\r\n",
       "<text text-anchor=\"middle\" x=\"151.5\" y=\"-347.3\" font-family=\"Times New Roman,serif\" font-size=\"14.00\">transactions (500 rows)</text>\r\n",
       "<polyline fill=\"none\" stroke=\"black\" points=\"35,-339.5 268,-339.5 \"/>\r\n",
       "<text text-anchor=\"start\" x=\"43\" y=\"-324.3\" font-family=\"Times New Roman,serif\" font-size=\"14.00\">transaction_id : index</text>\r\n",
       "<text text-anchor=\"start\" x=\"43\" y=\"-309.3\" font-family=\"Times New Roman,serif\" font-size=\"14.00\">session_id : id</text>\r\n",
       "<text text-anchor=\"start\" x=\"43\" y=\"-294.3\" font-family=\"Times New Roman,serif\" font-size=\"14.00\">transaction_time : datetime_time_index</text>\r\n",
       "<text text-anchor=\"start\" x=\"43\" y=\"-279.3\" font-family=\"Times New Roman,serif\" font-size=\"14.00\">amount : numeric</text>\r\n",
       "<text text-anchor=\"start\" x=\"43\" y=\"-264.3\" font-family=\"Times New Roman,serif\" font-size=\"14.00\">date_of_birth : datetime</text>\r\n",
       "<text text-anchor=\"start\" x=\"43\" y=\"-249.3\" font-family=\"Times New Roman,serif\" font-size=\"14.00\">product_id : id</text>\r\n",
       "</g>\r\n",
       "<!-- products -->\r\n",
       "<g id=\"node2\" class=\"node\"><title>products</title>\r\n",
       "<polygon fill=\"none\" stroke=\"black\" points=\"0,-128.5 0,-189.5 119,-189.5 119,-128.5 0,-128.5\"/>\r\n",
       "<text text-anchor=\"middle\" x=\"59.5\" y=\"-174.3\" font-family=\"Times New Roman,serif\" font-size=\"14.00\">products (5 rows)</text>\r\n",
       "<polyline fill=\"none\" stroke=\"black\" points=\"0,-166.5 119,-166.5 \"/>\r\n",
       "<text text-anchor=\"start\" x=\"8\" y=\"-151.3\" font-family=\"Times New Roman,serif\" font-size=\"14.00\">product_id : index</text>\r\n",
       "<text text-anchor=\"start\" x=\"8\" y=\"-136.3\" font-family=\"Times New Roman,serif\" font-size=\"14.00\">brand : categorical</text>\r\n",
       "</g>\r\n",
       "<!-- transactions&#45;&gt;products -->\r\n",
       "<g id=\"edge1\" class=\"edge\"><title>transactions&#45;&gt;products</title>\r\n",
       "<path fill=\"none\" stroke=\"black\" d=\"M77,-241.355C77,-241.355 77,-199.718 77,-199.718\"/>\r\n",
       "<polygon fill=\"black\" stroke=\"black\" points=\"80.5001,-199.718 77,-189.718 73.5001,-199.718 80.5001,-199.718\"/>\r\n",
       "<text text-anchor=\"middle\" x=\"45.5\" y=\"-224.337\" font-family=\"Times New Roman,serif\" font-size=\"14.00\">product_id</text>\r\n",
       "</g>\r\n",
       "<!-- sessions -->\r\n",
       "<g id=\"node3\" class=\"node\"><title>sessions</title>\r\n",
       "<polygon fill=\"none\" stroke=\"black\" points=\"137,-113.5 137,-204.5 352,-204.5 352,-113.5 137,-113.5\"/>\r\n",
       "<text text-anchor=\"middle\" x=\"244.5\" y=\"-189.3\" font-family=\"Times New Roman,serif\" font-size=\"14.00\">sessions (35 rows)</text>\r\n",
       "<polyline fill=\"none\" stroke=\"black\" points=\"137,-181.5 352,-181.5 \"/>\r\n",
       "<text text-anchor=\"start\" x=\"145\" y=\"-166.3\" font-family=\"Times New Roman,serif\" font-size=\"14.00\">session_id : index</text>\r\n",
       "<text text-anchor=\"start\" x=\"145\" y=\"-151.3\" font-family=\"Times New Roman,serif\" font-size=\"14.00\">device : categorical</text>\r\n",
       "<text text-anchor=\"start\" x=\"145\" y=\"-136.3\" font-family=\"Times New Roman,serif\" font-size=\"14.00\">customer_id : id</text>\r\n",
       "<text text-anchor=\"start\" x=\"145\" y=\"-121.3\" font-family=\"Times New Roman,serif\" font-size=\"14.00\">session_start : datetime_time_index</text>\r\n",
       "</g>\r\n",
       "<!-- transactions&#45;&gt;sessions -->\r\n",
       "<g id=\"edge2\" class=\"edge\"><title>transactions&#45;&gt;sessions</title>\r\n",
       "<path fill=\"none\" stroke=\"black\" d=\"M202.5,-241.355C202.5,-241.355 202.5,-214.55 202.5,-214.55\"/>\r\n",
       "<polygon fill=\"black\" stroke=\"black\" points=\"206,-214.55 202.5,-204.55 199,-214.55 206,-214.55\"/>\r\n",
       "<text text-anchor=\"middle\" x=\"172.5\" y=\"-216.753\" font-family=\"Times New Roman,serif\" font-size=\"14.00\">session_id</text>\r\n",
       "</g>\r\n",
       "<!-- customers -->\r\n",
       "<g id=\"node4\" class=\"node\"><title>customers</title>\r\n",
       "<polygon fill=\"none\" stroke=\"black\" points=\"148,-0.5 148,-76.5 341,-76.5 341,-0.5 148,-0.5\"/>\r\n",
       "<text text-anchor=\"middle\" x=\"244.5\" y=\"-61.3\" font-family=\"Times New Roman,serif\" font-size=\"14.00\">customers (5 rows)</text>\r\n",
       "<polyline fill=\"none\" stroke=\"black\" points=\"148,-53.5 341,-53.5 \"/>\r\n",
       "<text text-anchor=\"start\" x=\"156\" y=\"-38.3\" font-family=\"Times New Roman,serif\" font-size=\"14.00\">customer_id : index</text>\r\n",
       "<text text-anchor=\"start\" x=\"156\" y=\"-23.3\" font-family=\"Times New Roman,serif\" font-size=\"14.00\">zip_code : zipcode</text>\r\n",
       "<text text-anchor=\"start\" x=\"156\" y=\"-8.3\" font-family=\"Times New Roman,serif\" font-size=\"14.00\">join_date : datetime_time_index</text>\r\n",
       "</g>\r\n",
       "<!-- sessions&#45;&gt;customers -->\r\n",
       "<g id=\"edge3\" class=\"edge\"><title>sessions&#45;&gt;customers</title>\r\n",
       "<path fill=\"none\" stroke=\"black\" d=\"M244.5,-113.444C244.5,-113.444 244.5,-86.6502 244.5,-86.6502\"/>\r\n",
       "<polygon fill=\"black\" stroke=\"black\" points=\"248,-86.6502 244.5,-76.6502 241,-86.6503 248,-86.6502\"/>\r\n",
       "<text text-anchor=\"middle\" x=\"209.5\" y=\"-88.8472\" font-family=\"Times New Roman,serif\" font-size=\"14.00\">customer_id</text>\r\n",
       "</g>\r\n",
       "</g>\r\n",
       "</svg>\r\n"
      ],
      "text/plain": [
       "<graphviz.dot.Digraph at 0x21a0abac048>"
      ]
     },
     "execution_count": 29,
     "metadata": {},
     "output_type": "execute_result"
    }
   ],
   "source": [
    "es.plot()"
   ]
  },
  {
   "cell_type": "code",
   "execution_count": 35,
   "metadata": {
    "ExecuteTime": {
     "end_time": "2019-10-17T19:32:56.282739Z",
     "start_time": "2019-10-17T19:32:55.999744Z"
    }
   },
   "outputs": [],
   "source": [
    "feature_matrix, feature_defs = ft.dfs(entityset=es, target_entity=\"customers\")"
   ]
  },
  {
   "cell_type": "code",
   "execution_count": 36,
   "metadata": {
    "ExecuteTime": {
     "end_time": "2019-10-17T19:32:56.328448Z",
     "start_time": "2019-10-17T19:32:56.284775Z"
    }
   },
   "outputs": [
    {
     "data": {
      "text/html": [
       "<div>\n",
       "<style scoped>\n",
       "    .dataframe tbody tr th:only-of-type {\n",
       "        vertical-align: middle;\n",
       "    }\n",
       "\n",
       "    .dataframe tbody tr th {\n",
       "        vertical-align: top;\n",
       "    }\n",
       "\n",
       "    .dataframe thead th {\n",
       "        text-align: right;\n",
       "    }\n",
       "</style>\n",
       "<table border=\"1\" class=\"dataframe\">\n",
       "  <thead>\n",
       "    <tr style=\"text-align: right;\">\n",
       "      <th></th>\n",
       "      <th>zip_code</th>\n",
       "      <th>COUNT(sessions)</th>\n",
       "      <th>NUM_UNIQUE(sessions.device)</th>\n",
       "      <th>MODE(sessions.device)</th>\n",
       "      <th>SUM(transactions.amount)</th>\n",
       "      <th>STD(transactions.amount)</th>\n",
       "      <th>MAX(transactions.amount)</th>\n",
       "      <th>SKEW(transactions.amount)</th>\n",
       "      <th>MIN(transactions.amount)</th>\n",
       "      <th>MEAN(transactions.amount)</th>\n",
       "      <th>...</th>\n",
       "      <th>NUM_UNIQUE(sessions.MONTH(session_start))</th>\n",
       "      <th>MODE(sessions.MODE(transactions.product_id))</th>\n",
       "      <th>MODE(sessions.YEAR(session_start))</th>\n",
       "      <th>MODE(sessions.WEEKDAY(session_start))</th>\n",
       "      <th>MODE(sessions.DAY(session_start))</th>\n",
       "      <th>MODE(sessions.MONTH(session_start))</th>\n",
       "      <th>NUM_UNIQUE(transactions.sessions.device)</th>\n",
       "      <th>NUM_UNIQUE(transactions.sessions.customer_id)</th>\n",
       "      <th>MODE(transactions.sessions.device)</th>\n",
       "      <th>MODE(transactions.sessions.customer_id)</th>\n",
       "    </tr>\n",
       "    <tr>\n",
       "      <th>customer_id</th>\n",
       "      <th></th>\n",
       "      <th></th>\n",
       "      <th></th>\n",
       "      <th></th>\n",
       "      <th></th>\n",
       "      <th></th>\n",
       "      <th></th>\n",
       "      <th></th>\n",
       "      <th></th>\n",
       "      <th></th>\n",
       "      <th></th>\n",
       "      <th></th>\n",
       "      <th></th>\n",
       "      <th></th>\n",
       "      <th></th>\n",
       "      <th></th>\n",
       "      <th></th>\n",
       "      <th></th>\n",
       "      <th></th>\n",
       "      <th></th>\n",
       "      <th></th>\n",
       "    </tr>\n",
       "  </thead>\n",
       "  <tbody>\n",
       "    <tr>\n",
       "      <td>5</td>\n",
       "      <td>60091</td>\n",
       "      <td>6</td>\n",
       "      <td>3</td>\n",
       "      <td>mobile</td>\n",
       "      <td>6349.66</td>\n",
       "      <td>44.095630</td>\n",
       "      <td>149.02</td>\n",
       "      <td>-0.025941</td>\n",
       "      <td>7.55</td>\n",
       "      <td>80.375443</td>\n",
       "      <td>...</td>\n",
       "      <td>1</td>\n",
       "      <td>3</td>\n",
       "      <td>2014</td>\n",
       "      <td>2</td>\n",
       "      <td>1</td>\n",
       "      <td>1</td>\n",
       "      <td>3</td>\n",
       "      <td>1</td>\n",
       "      <td>mobile</td>\n",
       "      <td>5</td>\n",
       "    </tr>\n",
       "    <tr>\n",
       "      <td>4</td>\n",
       "      <td>60091</td>\n",
       "      <td>8</td>\n",
       "      <td>3</td>\n",
       "      <td>mobile</td>\n",
       "      <td>8727.68</td>\n",
       "      <td>45.068765</td>\n",
       "      <td>149.95</td>\n",
       "      <td>-0.036348</td>\n",
       "      <td>5.73</td>\n",
       "      <td>80.070459</td>\n",
       "      <td>...</td>\n",
       "      <td>1</td>\n",
       "      <td>1</td>\n",
       "      <td>2014</td>\n",
       "      <td>2</td>\n",
       "      <td>1</td>\n",
       "      <td>1</td>\n",
       "      <td>3</td>\n",
       "      <td>1</td>\n",
       "      <td>mobile</td>\n",
       "      <td>4</td>\n",
       "    </tr>\n",
       "    <tr>\n",
       "      <td>1</td>\n",
       "      <td>60091</td>\n",
       "      <td>8</td>\n",
       "      <td>3</td>\n",
       "      <td>mobile</td>\n",
       "      <td>9025.62</td>\n",
       "      <td>40.442059</td>\n",
       "      <td>139.43</td>\n",
       "      <td>0.019698</td>\n",
       "      <td>5.81</td>\n",
       "      <td>71.631905</td>\n",
       "      <td>...</td>\n",
       "      <td>1</td>\n",
       "      <td>4</td>\n",
       "      <td>2014</td>\n",
       "      <td>2</td>\n",
       "      <td>1</td>\n",
       "      <td>1</td>\n",
       "      <td>3</td>\n",
       "      <td>1</td>\n",
       "      <td>mobile</td>\n",
       "      <td>1</td>\n",
       "    </tr>\n",
       "    <tr>\n",
       "      <td>3</td>\n",
       "      <td>13244</td>\n",
       "      <td>6</td>\n",
       "      <td>3</td>\n",
       "      <td>desktop</td>\n",
       "      <td>6236.62</td>\n",
       "      <td>43.683296</td>\n",
       "      <td>149.15</td>\n",
       "      <td>0.418230</td>\n",
       "      <td>5.89</td>\n",
       "      <td>67.060430</td>\n",
       "      <td>...</td>\n",
       "      <td>1</td>\n",
       "      <td>1</td>\n",
       "      <td>2014</td>\n",
       "      <td>2</td>\n",
       "      <td>1</td>\n",
       "      <td>1</td>\n",
       "      <td>3</td>\n",
       "      <td>1</td>\n",
       "      <td>desktop</td>\n",
       "      <td>3</td>\n",
       "    </tr>\n",
       "    <tr>\n",
       "      <td>2</td>\n",
       "      <td>13244</td>\n",
       "      <td>7</td>\n",
       "      <td>3</td>\n",
       "      <td>desktop</td>\n",
       "      <td>7200.28</td>\n",
       "      <td>37.705178</td>\n",
       "      <td>146.81</td>\n",
       "      <td>0.098259</td>\n",
       "      <td>8.73</td>\n",
       "      <td>77.422366</td>\n",
       "      <td>...</td>\n",
       "      <td>1</td>\n",
       "      <td>3</td>\n",
       "      <td>2014</td>\n",
       "      <td>2</td>\n",
       "      <td>1</td>\n",
       "      <td>1</td>\n",
       "      <td>3</td>\n",
       "      <td>1</td>\n",
       "      <td>desktop</td>\n",
       "      <td>2</td>\n",
       "    </tr>\n",
       "  </tbody>\n",
       "</table>\n",
       "<p>5 rows × 73 columns</p>\n",
       "</div>"
      ],
      "text/plain": [
       "            zip_code  COUNT(sessions)  NUM_UNIQUE(sessions.device)  \\\n",
       "customer_id                                                          \n",
       "5              60091                6                            3   \n",
       "4              60091                8                            3   \n",
       "1              60091                8                            3   \n",
       "3              13244                6                            3   \n",
       "2              13244                7                            3   \n",
       "\n",
       "            MODE(sessions.device)  SUM(transactions.amount)  \\\n",
       "customer_id                                                   \n",
       "5                          mobile                   6349.66   \n",
       "4                          mobile                   8727.68   \n",
       "1                          mobile                   9025.62   \n",
       "3                         desktop                   6236.62   \n",
       "2                         desktop                   7200.28   \n",
       "\n",
       "             STD(transactions.amount)  MAX(transactions.amount)  \\\n",
       "customer_id                                                       \n",
       "5                           44.095630                    149.02   \n",
       "4                           45.068765                    149.95   \n",
       "1                           40.442059                    139.43   \n",
       "3                           43.683296                    149.15   \n",
       "2                           37.705178                    146.81   \n",
       "\n",
       "             SKEW(transactions.amount)  MIN(transactions.amount)  \\\n",
       "customer_id                                                        \n",
       "5                            -0.025941                      7.55   \n",
       "4                            -0.036348                      5.73   \n",
       "1                             0.019698                      5.81   \n",
       "3                             0.418230                      5.89   \n",
       "2                             0.098259                      8.73   \n",
       "\n",
       "             MEAN(transactions.amount)  ...  \\\n",
       "customer_id                             ...   \n",
       "5                            80.375443  ...   \n",
       "4                            80.070459  ...   \n",
       "1                            71.631905  ...   \n",
       "3                            67.060430  ...   \n",
       "2                            77.422366  ...   \n",
       "\n",
       "             NUM_UNIQUE(sessions.MONTH(session_start))  \\\n",
       "customer_id                                              \n",
       "5                                                    1   \n",
       "4                                                    1   \n",
       "1                                                    1   \n",
       "3                                                    1   \n",
       "2                                                    1   \n",
       "\n",
       "             MODE(sessions.MODE(transactions.product_id))  \\\n",
       "customer_id                                                 \n",
       "5                                                       3   \n",
       "4                                                       1   \n",
       "1                                                       4   \n",
       "3                                                       1   \n",
       "2                                                       3   \n",
       "\n",
       "             MODE(sessions.YEAR(session_start))  \\\n",
       "customer_id                                       \n",
       "5                                          2014   \n",
       "4                                          2014   \n",
       "1                                          2014   \n",
       "3                                          2014   \n",
       "2                                          2014   \n",
       "\n",
       "             MODE(sessions.WEEKDAY(session_start))  \\\n",
       "customer_id                                          \n",
       "5                                                2   \n",
       "4                                                2   \n",
       "1                                                2   \n",
       "3                                                2   \n",
       "2                                                2   \n",
       "\n",
       "             MODE(sessions.DAY(session_start))  \\\n",
       "customer_id                                      \n",
       "5                                            1   \n",
       "4                                            1   \n",
       "1                                            1   \n",
       "3                                            1   \n",
       "2                                            1   \n",
       "\n",
       "             MODE(sessions.MONTH(session_start))  \\\n",
       "customer_id                                        \n",
       "5                                              1   \n",
       "4                                              1   \n",
       "1                                              1   \n",
       "3                                              1   \n",
       "2                                              1   \n",
       "\n",
       "             NUM_UNIQUE(transactions.sessions.device)  \\\n",
       "customer_id                                             \n",
       "5                                                   3   \n",
       "4                                                   3   \n",
       "1                                                   3   \n",
       "3                                                   3   \n",
       "2                                                   3   \n",
       "\n",
       "             NUM_UNIQUE(transactions.sessions.customer_id)  \\\n",
       "customer_id                                                  \n",
       "5                                                        1   \n",
       "4                                                        1   \n",
       "1                                                        1   \n",
       "3                                                        1   \n",
       "2                                                        1   \n",
       "\n",
       "             MODE(transactions.sessions.device)  \\\n",
       "customer_id                                       \n",
       "5                                        mobile   \n",
       "4                                        mobile   \n",
       "1                                        mobile   \n",
       "3                                       desktop   \n",
       "2                                       desktop   \n",
       "\n",
       "             MODE(transactions.sessions.customer_id)  \n",
       "customer_id                                           \n",
       "5                                                  5  \n",
       "4                                                  4  \n",
       "1                                                  1  \n",
       "3                                                  3  \n",
       "2                                                  2  \n",
       "\n",
       "[5 rows x 73 columns]"
      ]
     },
     "execution_count": 36,
     "metadata": {},
     "output_type": "execute_result"
    }
   ],
   "source": [
    "feature_matrix"
   ]
  }
 ],
 "metadata": {
  "kernelspec": {
   "display_name": "Python 3",
   "language": "python",
   "name": "python3"
  },
  "language_info": {
   "codemirror_mode": {
    "name": "ipython",
    "version": 3
   },
   "file_extension": ".py",
   "mimetype": "text/x-python",
   "name": "python",
   "nbconvert_exporter": "python",
   "pygments_lexer": "ipython3",
   "version": "3.7.4"
  }
 },
 "nbformat": 4,
 "nbformat_minor": 2
}
